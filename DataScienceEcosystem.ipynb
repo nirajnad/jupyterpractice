{
 "cells": [
  {
   "cell_type": "markdown",
   "id": "36161a4e-f6f4-4160-b0d0-a4a2c5915511",
   "metadata": {},
   "source": [
    "# Data Science Tools and Ecosystem"
   ]
  },
  {
   "cell_type": "markdown",
   "id": "c5e5cf93-77fc-485a-8d86-347c88fb53fa",
   "metadata": {},
   "source": [
    "In this notebook, Data Science Tools and Ecosystem are summarized."
   ]
  },
  {
   "cell_type": "markdown",
   "id": "b9472d27-7ed9-4176-82df-d923dc1c9d63",
   "metadata": {},
   "source": [
    "**Objectives:**\n",
    "* Popular Languages\n",
    "* Popular Libraries\n",
    "* Data Science Tools\n",
    "* Using Arithmetic"
   ]
  },
  {
   "cell_type": "markdown",
   "id": "bbba8a8a-2b19-42ba-b8ca-8e71fb48c341",
   "metadata": {},
   "source": [
    "Some of the popular languages that Data Scientists use are:\n",
    "1. Python\n",
    "2. R\n",
    "3. Scala"
   ]
  },
  {
   "cell_type": "markdown",
   "id": "9fa300f1-e79c-42f7-af6d-364aa787a3ef",
   "metadata": {},
   "source": [
    "Some of the commonly used libraries used by Data Scientists include:\n",
    "1. Pandas\n",
    "2. Numpy\n",
    "3. Matplotlib"
   ]
  },
  {
   "cell_type": "markdown",
   "id": "5d40015d-bbca-4f74-bd8b-e6889555e6f1",
   "metadata": {},
   "source": [
    "| Data Science Tools   |\n",
    "|----------------------|\n",
    "| Jupyter Notebook     |\n",
    "| RStudio              |\n",
    "| Apache Zeppelin      |"
   ]
  },
  {
   "cell_type": "markdown",
   "id": "675e80bd-ef80-406f-bbb0-0309294d00ab",
   "metadata": {},
   "source": [
    "### Below are a few examples of evaluating arithmetic expressions in Python.\n"
   ]
  },
  {
   "cell_type": "code",
   "execution_count": 22,
   "id": "5cbd8c5d-fba8-463c-8599-208a9642ae34",
   "metadata": {},
   "outputs": [
    {
     "data": {
      "text/plain": [
       "17"
      ]
     },
     "execution_count": 22,
     "metadata": {},
     "output_type": "execute_result"
    }
   ],
   "source": [
    "#This a simple arithmetic expression to mutiply then add integers\n",
    "(3*4)+5"
   ]
  },
  {
   "cell_type": "code",
   "execution_count": 26,
   "id": "b2b5738c-19fc-48bc-b76b-bf7b8441f0f0",
   "metadata": {},
   "outputs": [
    {
     "data": {
      "text/plain": [
       "3.3333333333333335"
      ]
     },
     "execution_count": 26,
     "metadata": {},
     "output_type": "execute_result"
    }
   ],
   "source": [
    "#This will convert 200 minutes to hours by diving by 60\n",
    "200 / 60"
   ]
  },
  {
   "cell_type": "markdown",
   "id": "d6ae17bd-dea2-4dc7-a117-215ac0e9e245",
   "metadata": {},
   "source": [
    "## Author\n",
    "Niraj N"
   ]
  },
  {
   "cell_type": "code",
   "execution_count": null,
   "id": "7f2c56d6-bf06-402a-904e-1993f7df720c",
   "metadata": {},
   "outputs": [],
   "source": []
  }
 ],
 "metadata": {
  "kernelspec": {
   "display_name": "Python 3 (ipykernel)",
   "language": "python",
   "name": "python3"
  },
  "language_info": {
   "codemirror_mode": {
    "name": "ipython",
    "version": 3
   },
   "file_extension": ".py",
   "mimetype": "text/x-python",
   "name": "python",
   "nbconvert_exporter": "python",
   "pygments_lexer": "ipython3",
   "version": "3.11.7"
  }
 },
 "nbformat": 4,
 "nbformat_minor": 5
}
